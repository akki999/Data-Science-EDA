{
 "cells": [
  {
   "cell_type": "markdown",
   "metadata": {},
   "source": [
    "## Case Study 1(Cervical Cancer Risk Classification)    \n",
    "    \n",
    "   \n",
    "    Age\n",
    "    Number of sexual partners\n",
    "    First sexual intercourse\n",
    "    Num of pregnancies\n",
    "    Smokes\n",
    "    Smokes (years)\n",
    "    Smokes (packs/year)\n",
    "    Hormonal Contraceptives\n",
    "    Hormonal Contraceptives (years)\n",
    "    IUD\n",
    "    IUD (years)\n",
    "    STDs\n",
    "    STDs (number)\n",
    "    STDs:condylomatosis\n",
    "    STDs:cervical condylomatosis\n",
    "    STDs:vaginal condylomatosis\n",
    "    STDs:vulvo-perineal condylomatosis\n",
    "    STDs:syphilis\n",
    "    STDs:pelvic inflammatory disease\n",
    "    STDs:genital herpes\n",
    "    STDs:molluscum contagiosum\n",
    "    STDs:AIDS\n",
    "    STDs:HIV\n",
    "    STDs:Hepatitis B\n",
    "    STDs:HPV\n",
    "    STDs: Number of diagnosis\n",
    "    STDs: Time since first diagnosis\n",
    "    STDs: Time since last diagnosis\n",
    "    Dx:Cancer\n",
    "    Dx:CIN\n",
    "    Dx:HPV\n",
    "    Dx\n",
    "    Hinselmann\n",
    "    Schiller\n",
    "    Citology\n",
    "    Biopsy"
   ]
  },
  {
   "cell_type": "markdown",
   "metadata": {
    "colab_type": "text",
    "id": "mwxBZ0MqOH6A"
   },
   "source": [
    "### 1.1 import some necessary librairies"
   ]
  },
  {
   "cell_type": "code",
   "execution_count": 7,
   "metadata": {},
   "outputs": [],
   "source": [
    "import scipy\n",
    "from scipy.stats import skew,norm,zscore\n",
    "import numpy as np\n",
    "import pandas as pd\n",
    "import matplotlib.pyplot as plt\n",
    "import seaborn as sns\n",
    "%matplotlib inline"
   ]
  },
  {
   "cell_type": "markdown",
   "metadata": {
    "colab_type": "text",
    "id": "Ypt-ibyqOXWX"
   },
   "source": [
    "### 1.2 import and put the train and test datasets in  pandas dataframe"
   ]
  },
  {
   "cell_type": "code",
   "execution_count": 8,
   "metadata": {},
   "outputs": [],
   "source": [
    "can = pd.read_csv('cancer.csv')"
   ]
  },
  {
   "cell_type": "markdown",
   "metadata": {},
   "source": [
    "### 1.3 check the data.describe()"
   ]
  },
  {
   "cell_type": "code",
   "execution_count": 9,
   "metadata": {},
   "outputs": [
    {
     "data": {
      "text/html": [
       "<div>\n",
       "<style scoped>\n",
       "    .dataframe tbody tr th:only-of-type {\n",
       "        vertical-align: middle;\n",
       "    }\n",
       "\n",
       "    .dataframe tbody tr th {\n",
       "        vertical-align: top;\n",
       "    }\n",
       "\n",
       "    .dataframe thead th {\n",
       "        text-align: right;\n",
       "    }\n",
       "</style>\n",
       "<table border=\"1\" class=\"dataframe\">\n",
       "  <thead>\n",
       "    <tr style=\"text-align: right;\">\n",
       "      <th></th>\n",
       "      <th>Age</th>\n",
       "      <th>STDs: Number of diagnosis</th>\n",
       "      <th>Dx:Cancer</th>\n",
       "      <th>Dx:CIN</th>\n",
       "      <th>Dx:HPV</th>\n",
       "      <th>Dx</th>\n",
       "      <th>Hinselmann</th>\n",
       "      <th>Schiller</th>\n",
       "      <th>Citology</th>\n",
       "      <th>Biopsy</th>\n",
       "    </tr>\n",
       "  </thead>\n",
       "  <tbody>\n",
       "    <tr>\n",
       "      <td>count</td>\n",
       "      <td>858.000000</td>\n",
       "      <td>858.000000</td>\n",
       "      <td>858.000000</td>\n",
       "      <td>858.000000</td>\n",
       "      <td>858.000000</td>\n",
       "      <td>858.000000</td>\n",
       "      <td>858.000000</td>\n",
       "      <td>858.000000</td>\n",
       "      <td>858.000000</td>\n",
       "      <td>858.000000</td>\n",
       "    </tr>\n",
       "    <tr>\n",
       "      <td>mean</td>\n",
       "      <td>26.820513</td>\n",
       "      <td>0.087413</td>\n",
       "      <td>0.020979</td>\n",
       "      <td>0.010490</td>\n",
       "      <td>0.020979</td>\n",
       "      <td>0.027972</td>\n",
       "      <td>0.040793</td>\n",
       "      <td>0.086247</td>\n",
       "      <td>0.051282</td>\n",
       "      <td>0.064103</td>\n",
       "    </tr>\n",
       "    <tr>\n",
       "      <td>std</td>\n",
       "      <td>8.497948</td>\n",
       "      <td>0.302545</td>\n",
       "      <td>0.143398</td>\n",
       "      <td>0.101939</td>\n",
       "      <td>0.143398</td>\n",
       "      <td>0.164989</td>\n",
       "      <td>0.197925</td>\n",
       "      <td>0.280892</td>\n",
       "      <td>0.220701</td>\n",
       "      <td>0.245078</td>\n",
       "    </tr>\n",
       "    <tr>\n",
       "      <td>min</td>\n",
       "      <td>13.000000</td>\n",
       "      <td>0.000000</td>\n",
       "      <td>0.000000</td>\n",
       "      <td>0.000000</td>\n",
       "      <td>0.000000</td>\n",
       "      <td>0.000000</td>\n",
       "      <td>0.000000</td>\n",
       "      <td>0.000000</td>\n",
       "      <td>0.000000</td>\n",
       "      <td>0.000000</td>\n",
       "    </tr>\n",
       "    <tr>\n",
       "      <td>25%</td>\n",
       "      <td>20.000000</td>\n",
       "      <td>0.000000</td>\n",
       "      <td>0.000000</td>\n",
       "      <td>0.000000</td>\n",
       "      <td>0.000000</td>\n",
       "      <td>0.000000</td>\n",
       "      <td>0.000000</td>\n",
       "      <td>0.000000</td>\n",
       "      <td>0.000000</td>\n",
       "      <td>0.000000</td>\n",
       "    </tr>\n",
       "    <tr>\n",
       "      <td>50%</td>\n",
       "      <td>25.000000</td>\n",
       "      <td>0.000000</td>\n",
       "      <td>0.000000</td>\n",
       "      <td>0.000000</td>\n",
       "      <td>0.000000</td>\n",
       "      <td>0.000000</td>\n",
       "      <td>0.000000</td>\n",
       "      <td>0.000000</td>\n",
       "      <td>0.000000</td>\n",
       "      <td>0.000000</td>\n",
       "    </tr>\n",
       "    <tr>\n",
       "      <td>75%</td>\n",
       "      <td>32.000000</td>\n",
       "      <td>0.000000</td>\n",
       "      <td>0.000000</td>\n",
       "      <td>0.000000</td>\n",
       "      <td>0.000000</td>\n",
       "      <td>0.000000</td>\n",
       "      <td>0.000000</td>\n",
       "      <td>0.000000</td>\n",
       "      <td>0.000000</td>\n",
       "      <td>0.000000</td>\n",
       "    </tr>\n",
       "    <tr>\n",
       "      <td>max</td>\n",
       "      <td>84.000000</td>\n",
       "      <td>3.000000</td>\n",
       "      <td>1.000000</td>\n",
       "      <td>1.000000</td>\n",
       "      <td>1.000000</td>\n",
       "      <td>1.000000</td>\n",
       "      <td>1.000000</td>\n",
       "      <td>1.000000</td>\n",
       "      <td>1.000000</td>\n",
       "      <td>1.000000</td>\n",
       "    </tr>\n",
       "  </tbody>\n",
       "</table>\n",
       "</div>"
      ],
      "text/plain": [
       "              Age  STDs: Number of diagnosis   Dx:Cancer      Dx:CIN  \\\n",
       "count  858.000000                 858.000000  858.000000  858.000000   \n",
       "mean    26.820513                   0.087413    0.020979    0.010490   \n",
       "std      8.497948                   0.302545    0.143398    0.101939   \n",
       "min     13.000000                   0.000000    0.000000    0.000000   \n",
       "25%     20.000000                   0.000000    0.000000    0.000000   \n",
       "50%     25.000000                   0.000000    0.000000    0.000000   \n",
       "75%     32.000000                   0.000000    0.000000    0.000000   \n",
       "max     84.000000                   3.000000    1.000000    1.000000   \n",
       "\n",
       "           Dx:HPV          Dx  Hinselmann    Schiller    Citology      Biopsy  \n",
       "count  858.000000  858.000000  858.000000  858.000000  858.000000  858.000000  \n",
       "mean     0.020979    0.027972    0.040793    0.086247    0.051282    0.064103  \n",
       "std      0.143398    0.164989    0.197925    0.280892    0.220701    0.245078  \n",
       "min      0.000000    0.000000    0.000000    0.000000    0.000000    0.000000  \n",
       "25%      0.000000    0.000000    0.000000    0.000000    0.000000    0.000000  \n",
       "50%      0.000000    0.000000    0.000000    0.000000    0.000000    0.000000  \n",
       "75%      0.000000    0.000000    0.000000    0.000000    0.000000    0.000000  \n",
       "max      1.000000    1.000000    1.000000    1.000000    1.000000    1.000000  "
      ]
     },
     "execution_count": 9,
     "metadata": {},
     "output_type": "execute_result"
    }
   ],
   "source": [
    "can.describe()"
   ]
  },
  {
   "cell_type": "markdown",
   "metadata": {},
   "source": [
    "### 1.4 Replacing ;?' with null values in each column?\n"
   ]
  },
  {
   "cell_type": "code",
   "execution_count": 27,
   "metadata": {},
   "outputs": [
    {
     "data": {
      "text/html": [
       "<div>\n",
       "<style scoped>\n",
       "    .dataframe tbody tr th:only-of-type {\n",
       "        vertical-align: middle;\n",
       "    }\n",
       "\n",
       "    .dataframe tbody tr th {\n",
       "        vertical-align: top;\n",
       "    }\n",
       "\n",
       "    .dataframe thead th {\n",
       "        text-align: right;\n",
       "    }\n",
       "</style>\n",
       "<table border=\"1\" class=\"dataframe\">\n",
       "  <thead>\n",
       "    <tr style=\"text-align: right;\">\n",
       "      <th></th>\n",
       "      <th>Age</th>\n",
       "      <th>Number of sexual partners</th>\n",
       "      <th>First sexual intercourse</th>\n",
       "      <th>Num of pregnancies</th>\n",
       "      <th>Smokes</th>\n",
       "      <th>Smokes (years)</th>\n",
       "      <th>Smokes (packs/year)</th>\n",
       "      <th>Hormonal Contraceptives</th>\n",
       "      <th>Hormonal Contraceptives (years)</th>\n",
       "      <th>IUD</th>\n",
       "      <th>...</th>\n",
       "      <th>STDs: Time since first diagnosis</th>\n",
       "      <th>STDs: Time since last diagnosis</th>\n",
       "      <th>Dx:Cancer</th>\n",
       "      <th>Dx:CIN</th>\n",
       "      <th>Dx:HPV</th>\n",
       "      <th>Dx</th>\n",
       "      <th>Hinselmann</th>\n",
       "      <th>Schiller</th>\n",
       "      <th>Citology</th>\n",
       "      <th>Biopsy</th>\n",
       "    </tr>\n",
       "  </thead>\n",
       "  <tbody>\n",
       "    <tr>\n",
       "      <td>0</td>\n",
       "      <td>18</td>\n",
       "      <td>4.0</td>\n",
       "      <td>15.0</td>\n",
       "      <td>1.0</td>\n",
       "      <td>0.0</td>\n",
       "      <td>0.0</td>\n",
       "      <td>0.0</td>\n",
       "      <td>0.0</td>\n",
       "      <td>0.0</td>\n",
       "      <td>0.0</td>\n",
       "      <td>...</td>\n",
       "      <td>0</td>\n",
       "      <td>0</td>\n",
       "      <td>0</td>\n",
       "      <td>0</td>\n",
       "      <td>0</td>\n",
       "      <td>0</td>\n",
       "      <td>0</td>\n",
       "      <td>0</td>\n",
       "      <td>0</td>\n",
       "      <td>0</td>\n",
       "    </tr>\n",
       "    <tr>\n",
       "      <td>1</td>\n",
       "      <td>15</td>\n",
       "      <td>1.0</td>\n",
       "      <td>14.0</td>\n",
       "      <td>1.0</td>\n",
       "      <td>0.0</td>\n",
       "      <td>0.0</td>\n",
       "      <td>0.0</td>\n",
       "      <td>0.0</td>\n",
       "      <td>0.0</td>\n",
       "      <td>0.0</td>\n",
       "      <td>...</td>\n",
       "      <td>0</td>\n",
       "      <td>0</td>\n",
       "      <td>0</td>\n",
       "      <td>0</td>\n",
       "      <td>0</td>\n",
       "      <td>0</td>\n",
       "      <td>0</td>\n",
       "      <td>0</td>\n",
       "      <td>0</td>\n",
       "      <td>0</td>\n",
       "    </tr>\n",
       "    <tr>\n",
       "      <td>2</td>\n",
       "      <td>34</td>\n",
       "      <td>1.0</td>\n",
       "      <td>0</td>\n",
       "      <td>1.0</td>\n",
       "      <td>0.0</td>\n",
       "      <td>0.0</td>\n",
       "      <td>0.0</td>\n",
       "      <td>0.0</td>\n",
       "      <td>0.0</td>\n",
       "      <td>0.0</td>\n",
       "      <td>...</td>\n",
       "      <td>0</td>\n",
       "      <td>0</td>\n",
       "      <td>0</td>\n",
       "      <td>0</td>\n",
       "      <td>0</td>\n",
       "      <td>0</td>\n",
       "      <td>0</td>\n",
       "      <td>0</td>\n",
       "      <td>0</td>\n",
       "      <td>0</td>\n",
       "    </tr>\n",
       "    <tr>\n",
       "      <td>3</td>\n",
       "      <td>52</td>\n",
       "      <td>5.0</td>\n",
       "      <td>16.0</td>\n",
       "      <td>4.0</td>\n",
       "      <td>1.0</td>\n",
       "      <td>37.0</td>\n",
       "      <td>37.0</td>\n",
       "      <td>1.0</td>\n",
       "      <td>3.0</td>\n",
       "      <td>0.0</td>\n",
       "      <td>...</td>\n",
       "      <td>0</td>\n",
       "      <td>0</td>\n",
       "      <td>1</td>\n",
       "      <td>0</td>\n",
       "      <td>1</td>\n",
       "      <td>0</td>\n",
       "      <td>0</td>\n",
       "      <td>0</td>\n",
       "      <td>0</td>\n",
       "      <td>0</td>\n",
       "    </tr>\n",
       "    <tr>\n",
       "      <td>4</td>\n",
       "      <td>46</td>\n",
       "      <td>3.0</td>\n",
       "      <td>21.0</td>\n",
       "      <td>4.0</td>\n",
       "      <td>0.0</td>\n",
       "      <td>0.0</td>\n",
       "      <td>0.0</td>\n",
       "      <td>1.0</td>\n",
       "      <td>15.0</td>\n",
       "      <td>0.0</td>\n",
       "      <td>...</td>\n",
       "      <td>0</td>\n",
       "      <td>0</td>\n",
       "      <td>0</td>\n",
       "      <td>0</td>\n",
       "      <td>0</td>\n",
       "      <td>0</td>\n",
       "      <td>0</td>\n",
       "      <td>0</td>\n",
       "      <td>0</td>\n",
       "      <td>0</td>\n",
       "    </tr>\n",
       "  </tbody>\n",
       "</table>\n",
       "<p>5 rows × 36 columns</p>\n",
       "</div>"
      ],
      "text/plain": [
       "   Age Number of sexual partners First sexual intercourse Num of pregnancies  \\\n",
       "0   18                       4.0                     15.0                1.0   \n",
       "1   15                       1.0                     14.0                1.0   \n",
       "2   34                       1.0                        0                1.0   \n",
       "3   52                       5.0                     16.0                4.0   \n",
       "4   46                       3.0                     21.0                4.0   \n",
       "\n",
       "  Smokes Smokes (years) Smokes (packs/year) Hormonal Contraceptives  \\\n",
       "0    0.0            0.0                 0.0                     0.0   \n",
       "1    0.0            0.0                 0.0                     0.0   \n",
       "2    0.0            0.0                 0.0                     0.0   \n",
       "3    1.0           37.0                37.0                     1.0   \n",
       "4    0.0            0.0                 0.0                     1.0   \n",
       "\n",
       "  Hormonal Contraceptives (years)  IUD  ... STDs: Time since first diagnosis  \\\n",
       "0                             0.0  0.0  ...                                0   \n",
       "1                             0.0  0.0  ...                                0   \n",
       "2                             0.0  0.0  ...                                0   \n",
       "3                             3.0  0.0  ...                                0   \n",
       "4                            15.0  0.0  ...                                0   \n",
       "\n",
       "  STDs: Time since last diagnosis Dx:Cancer Dx:CIN Dx:HPV Dx Hinselmann  \\\n",
       "0                               0         0      0      0  0          0   \n",
       "1                               0         0      0      0  0          0   \n",
       "2                               0         0      0      0  0          0   \n",
       "3                               0         1      0      1  0          0   \n",
       "4                               0         0      0      0  0          0   \n",
       "\n",
       "  Schiller Citology Biopsy  \n",
       "0        0        0      0  \n",
       "1        0        0      0  \n",
       "2        0        0      0  \n",
       "3        0        0      0  \n",
       "4        0        0      0  \n",
       "\n",
       "[5 rows x 36 columns]"
      ]
     },
     "execution_count": 27,
     "metadata": {},
     "output_type": "execute_result"
    }
   ],
   "source": [
    "can1 = can.replace({'?':0})\n",
    "can1.head()"
   ]
  },
  {
   "cell_type": "code",
   "execution_count": 78,
   "metadata": {},
   "outputs": [
    {
     "name": "stdout",
     "output_type": "stream",
     "text": [
      "<class 'pandas.core.frame.DataFrame'>\n",
      "RangeIndex: 858 entries, 0 to 857\n",
      "Data columns (total 37 columns):\n",
      "Age                                   858 non-null int64\n",
      "Number of sexual partners             858 non-null object\n",
      "First sexual intercourse              858 non-null float64\n",
      "Num of pregnancies                    858 non-null float64\n",
      "Smokes                                858 non-null float64\n",
      "Smokes (years)                        858 non-null float64\n",
      "Smokes (packs/year)                   858 non-null object\n",
      "Hormonal Contraceptives               858 non-null float64\n",
      "Hormonal Contraceptives (years)       858 non-null float64\n",
      "IUD                                   858 non-null float64\n",
      "IUD (years)                           858 non-null float64\n",
      "STDs                                  858 non-null float64\n",
      "STDs (number)                         858 non-null float64\n",
      "STDs:condylomatosis                   858 non-null float64\n",
      "STDs:cervical condylomatosis          858 non-null float64\n",
      "STDs:vaginal condylomatosis           858 non-null object\n",
      "STDs:vulvo-perineal condylomatosis    858 non-null object\n",
      "STDs:syphilis                         858 non-null object\n",
      "STDs:pelvic inflammatory disease      858 non-null object\n",
      "STDs:genital herpes                   858 non-null object\n",
      "STDs:molluscum contagiosum            858 non-null object\n",
      "STDs:AIDS                             858 non-null object\n",
      "STDs:HIV                              858 non-null object\n",
      "STDs:Hepatitis B                      858 non-null object\n",
      "STDs:HPV                              858 non-null object\n",
      "STDs: Number of diagnosis             858 non-null int64\n",
      "STDs: Time since first diagnosis      858 non-null object\n",
      "STDs: Time since last diagnosis       858 non-null object\n",
      "Dx:Cancer                             858 non-null int64\n",
      "Dx:CIN                                858 non-null int64\n",
      "Dx:HPV                                858 non-null int64\n",
      "Dx                                    858 non-null int64\n",
      "Hinselmann                            858 non-null int64\n",
      "Schiller                              858 non-null int64\n",
      "Citology                              858 non-null int64\n",
      "Biopsy                                858 non-null int64\n",
      "First sexual intercorse               858 non-null float64\n",
      "dtypes: float64(13), int64(10), object(14)\n",
      "memory usage: 248.1+ KB\n"
     ]
    }
   ],
   "source": [
    "can1.info()"
   ]
  },
  {
   "cell_type": "markdown",
   "metadata": {},
   "source": [
    "### 1.5 Check count of 0 means not cancer affected and 1 means cancer affected cell\n"
   ]
  },
  {
   "cell_type": "code",
   "execution_count": 28,
   "metadata": {},
   "outputs": [
    {
     "data": {
      "text/plain": [
       "0    840\n",
       "1     18\n",
       "Name: Dx:Cancer, dtype: int64"
      ]
     },
     "execution_count": 28,
     "metadata": {},
     "output_type": "execute_result"
    }
   ],
   "source": [
    "can1['Dx:Cancer'].value_counts()"
   ]
  },
  {
   "cell_type": "markdown",
   "metadata": {},
   "source": [
    "observation:\n",
    "   \n"
   ]
  },
  {
   "cell_type": "code",
   "execution_count": null,
   "metadata": {},
   "outputs": [],
   "source": [
    "##OBSERVATION\n",
    "##There are 840 peoples are not affected from cancer\n",
    "##There are 18 peoples are affected from cancer"
   ]
  },
  {
   "cell_type": "markdown",
   "metadata": {
    "colab_type": "text",
    "id": "IW6pRz0A8p0t"
   },
   "source": [
    "### 1.6 Check Correlation Plot. And your observations?"
   ]
  },
  {
   "cell_type": "code",
   "execution_count": 29,
   "metadata": {
    "colab": {
     "base_uri": "https://localhost:8080/",
     "height": 653
    },
    "colab_type": "code",
    "id": "dOHHlCYD82ei",
    "outputId": "35c1963e-1638-4dfc-a12a-d3582fdbf1e7",
    "scrolled": true
   },
   "outputs": [
    {
     "data": {
      "text/html": [
       "<div>\n",
       "<style scoped>\n",
       "    .dataframe tbody tr th:only-of-type {\n",
       "        vertical-align: middle;\n",
       "    }\n",
       "\n",
       "    .dataframe tbody tr th {\n",
       "        vertical-align: top;\n",
       "    }\n",
       "\n",
       "    .dataframe thead th {\n",
       "        text-align: right;\n",
       "    }\n",
       "</style>\n",
       "<table border=\"1\" class=\"dataframe\">\n",
       "  <thead>\n",
       "    <tr style=\"text-align: right;\">\n",
       "      <th></th>\n",
       "      <th>Age</th>\n",
       "      <th>STDs: Number of diagnosis</th>\n",
       "      <th>Dx:Cancer</th>\n",
       "      <th>Dx:CIN</th>\n",
       "      <th>Dx:HPV</th>\n",
       "      <th>Dx</th>\n",
       "      <th>Hinselmann</th>\n",
       "      <th>Schiller</th>\n",
       "      <th>Citology</th>\n",
       "      <th>Biopsy</th>\n",
       "    </tr>\n",
       "  </thead>\n",
       "  <tbody>\n",
       "    <tr>\n",
       "      <td>Age</td>\n",
       "      <td>1.000000</td>\n",
       "      <td>-0.001606</td>\n",
       "      <td>0.110340</td>\n",
       "      <td>0.061443</td>\n",
       "      <td>0.101722</td>\n",
       "      <td>0.092635</td>\n",
       "      <td>-0.003967</td>\n",
       "      <td>0.103283</td>\n",
       "      <td>-0.016862</td>\n",
       "      <td>0.055956</td>\n",
       "    </tr>\n",
       "    <tr>\n",
       "      <td>STDs: Number of diagnosis</td>\n",
       "      <td>-0.001606</td>\n",
       "      <td>1.000000</td>\n",
       "      <td>-0.015423</td>\n",
       "      <td>0.008070</td>\n",
       "      <td>-0.015423</td>\n",
       "      <td>-0.002289</td>\n",
       "      <td>0.076787</td>\n",
       "      <td>0.130873</td>\n",
       "      <td>0.055114</td>\n",
       "      <td>0.097449</td>\n",
       "    </tr>\n",
       "    <tr>\n",
       "      <td>Dx:Cancer</td>\n",
       "      <td>0.110340</td>\n",
       "      <td>-0.015423</td>\n",
       "      <td>1.000000</td>\n",
       "      <td>-0.015072</td>\n",
       "      <td>0.886508</td>\n",
       "      <td>0.665647</td>\n",
       "      <td>0.134264</td>\n",
       "      <td>0.157812</td>\n",
       "      <td>0.113446</td>\n",
       "      <td>0.160905</td>\n",
       "    </tr>\n",
       "    <tr>\n",
       "      <td>Dx:CIN</td>\n",
       "      <td>0.061443</td>\n",
       "      <td>0.008070</td>\n",
       "      <td>-0.015072</td>\n",
       "      <td>1.000000</td>\n",
       "      <td>-0.015072</td>\n",
       "      <td>0.606939</td>\n",
       "      <td>-0.021233</td>\n",
       "      <td>0.009119</td>\n",
       "      <td>-0.023938</td>\n",
       "      <td>0.113172</td>\n",
       "    </tr>\n",
       "    <tr>\n",
       "      <td>Dx:HPV</td>\n",
       "      <td>0.101722</td>\n",
       "      <td>-0.015423</td>\n",
       "      <td>0.886508</td>\n",
       "      <td>-0.015072</td>\n",
       "      <td>1.000000</td>\n",
       "      <td>0.616327</td>\n",
       "      <td>0.134264</td>\n",
       "      <td>0.157812</td>\n",
       "      <td>0.113446</td>\n",
       "      <td>0.160905</td>\n",
       "    </tr>\n",
       "    <tr>\n",
       "      <td>Dx</td>\n",
       "      <td>0.092635</td>\n",
       "      <td>-0.002289</td>\n",
       "      <td>0.665647</td>\n",
       "      <td>0.606939</td>\n",
       "      <td>0.616327</td>\n",
       "      <td>1.000000</td>\n",
       "      <td>0.072215</td>\n",
       "      <td>0.098952</td>\n",
       "      <td>0.088740</td>\n",
       "      <td>0.157607</td>\n",
       "    </tr>\n",
       "    <tr>\n",
       "      <td>Hinselmann</td>\n",
       "      <td>-0.003967</td>\n",
       "      <td>0.076787</td>\n",
       "      <td>0.134264</td>\n",
       "      <td>-0.021233</td>\n",
       "      <td>0.134264</td>\n",
       "      <td>0.072215</td>\n",
       "      <td>1.000000</td>\n",
       "      <td>0.650249</td>\n",
       "      <td>0.192467</td>\n",
       "      <td>0.547417</td>\n",
       "    </tr>\n",
       "    <tr>\n",
       "      <td>Schiller</td>\n",
       "      <td>0.103283</td>\n",
       "      <td>0.130873</td>\n",
       "      <td>0.157812</td>\n",
       "      <td>0.009119</td>\n",
       "      <td>0.157812</td>\n",
       "      <td>0.098952</td>\n",
       "      <td>0.650249</td>\n",
       "      <td>1.000000</td>\n",
       "      <td>0.361486</td>\n",
       "      <td>0.733204</td>\n",
       "    </tr>\n",
       "    <tr>\n",
       "      <td>Citology</td>\n",
       "      <td>-0.016862</td>\n",
       "      <td>0.055114</td>\n",
       "      <td>0.113446</td>\n",
       "      <td>-0.023938</td>\n",
       "      <td>0.113446</td>\n",
       "      <td>0.088740</td>\n",
       "      <td>0.192467</td>\n",
       "      <td>0.361486</td>\n",
       "      <td>1.000000</td>\n",
       "      <td>0.327466</td>\n",
       "    </tr>\n",
       "    <tr>\n",
       "      <td>Biopsy</td>\n",
       "      <td>0.055956</td>\n",
       "      <td>0.097449</td>\n",
       "      <td>0.160905</td>\n",
       "      <td>0.113172</td>\n",
       "      <td>0.160905</td>\n",
       "      <td>0.157607</td>\n",
       "      <td>0.547417</td>\n",
       "      <td>0.733204</td>\n",
       "      <td>0.327466</td>\n",
       "      <td>1.000000</td>\n",
       "    </tr>\n",
       "  </tbody>\n",
       "</table>\n",
       "</div>"
      ],
      "text/plain": [
       "                                Age  STDs: Number of diagnosis  Dx:Cancer  \\\n",
       "Age                        1.000000                  -0.001606   0.110340   \n",
       "STDs: Number of diagnosis -0.001606                   1.000000  -0.015423   \n",
       "Dx:Cancer                  0.110340                  -0.015423   1.000000   \n",
       "Dx:CIN                     0.061443                   0.008070  -0.015072   \n",
       "Dx:HPV                     0.101722                  -0.015423   0.886508   \n",
       "Dx                         0.092635                  -0.002289   0.665647   \n",
       "Hinselmann                -0.003967                   0.076787   0.134264   \n",
       "Schiller                   0.103283                   0.130873   0.157812   \n",
       "Citology                  -0.016862                   0.055114   0.113446   \n",
       "Biopsy                     0.055956                   0.097449   0.160905   \n",
       "\n",
       "                             Dx:CIN    Dx:HPV        Dx  Hinselmann  Schiller  \\\n",
       "Age                        0.061443  0.101722  0.092635   -0.003967  0.103283   \n",
       "STDs: Number of diagnosis  0.008070 -0.015423 -0.002289    0.076787  0.130873   \n",
       "Dx:Cancer                 -0.015072  0.886508  0.665647    0.134264  0.157812   \n",
       "Dx:CIN                     1.000000 -0.015072  0.606939   -0.021233  0.009119   \n",
       "Dx:HPV                    -0.015072  1.000000  0.616327    0.134264  0.157812   \n",
       "Dx                         0.606939  0.616327  1.000000    0.072215  0.098952   \n",
       "Hinselmann                -0.021233  0.134264  0.072215    1.000000  0.650249   \n",
       "Schiller                   0.009119  0.157812  0.098952    0.650249  1.000000   \n",
       "Citology                  -0.023938  0.113446  0.088740    0.192467  0.361486   \n",
       "Biopsy                     0.113172  0.160905  0.157607    0.547417  0.733204   \n",
       "\n",
       "                           Citology    Biopsy  \n",
       "Age                       -0.016862  0.055956  \n",
       "STDs: Number of diagnosis  0.055114  0.097449  \n",
       "Dx:Cancer                  0.113446  0.160905  \n",
       "Dx:CIN                    -0.023938  0.113172  \n",
       "Dx:HPV                     0.113446  0.160905  \n",
       "Dx                         0.088740  0.157607  \n",
       "Hinselmann                 0.192467  0.547417  \n",
       "Schiller                   0.361486  0.733204  \n",
       "Citology                   1.000000  0.327466  \n",
       "Biopsy                     0.327466  1.000000  "
      ]
     },
     "execution_count": 29,
     "metadata": {},
     "output_type": "execute_result"
    }
   ],
   "source": [
    "# correlation plot\n",
    "can1.corr()"
   ]
  },
  {
   "cell_type": "markdown",
   "metadata": {},
   "source": [
    "#### observation:\n",
    "    "
   ]
  },
  {
   "cell_type": "markdown",
   "metadata": {},
   "source": [
    "### 1.6a) list the heatmap of top correlation\n"
   ]
  },
  {
   "cell_type": "code",
   "execution_count": 30,
   "metadata": {
    "colab": {
     "base_uri": "https://localhost:8080/",
     "height": 780
    },
    "colab_type": "code",
    "id": "-Kt6vShDNH-y",
    "outputId": "1394ff8c-9ae4-4850-c5bc-5449b51af957",
    "scrolled": true
   },
   "outputs": [
    {
     "data": {
      "image/png": "[encoded data removed]",
      "text/plain": [
       "<Figure size 1008x360 with 2 Axes>"
      ]
     },
     "metadata": {
      "needs_background": "light"
     },
     "output_type": "display_data"
    }
   ],
   "source": [
    "# list the heatmap of top correlation\n",
    "plt.figure(figsize=(14,5))\n",
    "sns.heatmap(can1.corr(),annot=True)\n",
    "plt.show()\n",
    "\n",
    "# number of variables for heatmap\n",
    "#10 variables for heatmap"
   ]
  },
  {
   "cell_type": "markdown",
   "metadata": {},
   "source": [
    "#### observation:\n",
    "    "
   ]
  },
  {
   "cell_type": "markdown",
   "metadata": {},
   "source": [
    "### 1.7 Imputing the missing values from the given dataset?"
   ]
  },
  {
   "cell_type": "code",
   "execution_count": 32,
   "metadata": {
    "colab": {
     "base_uri": "https://localhost:8080/",
     "height": 36
    },
    "colab_type": "code",
    "id": "Lx6bKJbf92cM",
    "outputId": "bb8aa747-fa0b-45cb-da77-869284ff0666"
   },
   "outputs": [
    {
     "data": {
      "text/plain": [
       "Age                                   0\n",
       "Number of sexual partners             0\n",
       "First sexual intercourse              0\n",
       "Num of pregnancies                    0\n",
       "Smokes                                0\n",
       "Smokes (years)                        0\n",
       "Smokes (packs/year)                   0\n",
       "Hormonal Contraceptives               0\n",
       "Hormonal Contraceptives (years)       0\n",
       "IUD                                   0\n",
       "IUD (years)                           0\n",
       "STDs                                  0\n",
       "STDs (number)                         0\n",
       "STDs:condylomatosis                   0\n",
       "STDs:cervical condylomatosis          0\n",
       "STDs:vaginal condylomatosis           0\n",
       "STDs:vulvo-perineal condylomatosis    0\n",
       "STDs:syphilis                         0\n",
       "STDs:pelvic inflammatory disease      0\n",
       "STDs:genital herpes                   0\n",
       "STDs:molluscum contagiosum            0\n",
       "STDs:AIDS                             0\n",
       "STDs:HIV                              0\n",
       "STDs:Hepatitis B                      0\n",
       "STDs:HPV                              0\n",
       "STDs: Number of diagnosis             0\n",
       "STDs: Time since first diagnosis      0\n",
       "STDs: Time since last diagnosis       0\n",
       "Dx:Cancer                             0\n",
       "Dx:CIN                                0\n",
       "Dx:HPV                                0\n",
       "Dx                                    0\n",
       "Hinselmann                            0\n",
       "Schiller                              0\n",
       "Citology                              0\n",
       "Biopsy                                0\n",
       "dtype: int64"
      ]
     },
     "execution_count": 32,
     "metadata": {},
     "output_type": "execute_result"
    }
   ],
   "source": [
    "# we will impute the categorical variables with 0 or 1 and continuous variables with median value\n",
    "can1.isna().sum()"
   ]
  },
  {
   "cell_type": "code",
   "execution_count": 44,
   "metadata": {
    "colab": {
     "base_uri": "https://localhost:8080/",
     "height": 36
    },
    "colab_type": "code",
    "id": "W1W95Qq8Gy3_",
    "outputId": "aea72a29-d6dc-4897-f41e-2c05c0d213c7"
   },
   "outputs": [
    {
     "data": {
      "text/plain": [
       "0      15.0\n",
       "1      14.0\n",
       "2      17.0\n",
       "3      16.0\n",
       "4      21.0\n",
       "       ... \n",
       "853    18.0\n",
       "854    19.0\n",
       "855    17.0\n",
       "856    24.0\n",
       "857    20.0\n",
       "Name: First sexual intercorse, Length: 858, dtype: float64"
      ]
     },
     "execution_count": 44,
     "metadata": {},
     "output_type": "execute_result"
    }
   ],
   "source": [
    "# Imputing the missing values from First sexual intercourse\n",
    "can1['First sexual intercorse'] = can1['First sexual intercourse'].astype(float)\n",
    "can1['First sexual intercourse'] = can1['First sexual intercourse'].replace({0:can1['First sexual intercourse'].median()})\n",
    "can1['First sexual intercorse']"
   ]
  },
  {
   "cell_type": "code",
   "execution_count": 51,
   "metadata": {
    "colab": {
     "base_uri": "https://localhost:8080/",
     "height": 36
    },
    "colab_type": "code",
    "id": "ps9j9lvrIt8X",
    "outputId": "00e40813-6fb1-4425-cf1d-a229f00a2e89"
   },
   "outputs": [
    {
     "data": {
      "text/plain": [
       "0      1.0\n",
       "1      1.0\n",
       "2      1.0\n",
       "3      4.0\n",
       "4      4.0\n",
       "      ... \n",
       "853    2.0\n",
       "854    1.0\n",
       "855    2.0\n",
       "856    2.0\n",
       "857    1.0\n",
       "Name: Num of pregnancies, Length: 858, dtype: float64"
      ]
     },
     "execution_count": 51,
     "metadata": {},
     "output_type": "execute_result"
    }
   ],
   "source": [
    "# Imputing the missing values from Num of pregnancies\n",
    "can1['Num of pregnancies'] = can1['Num of pregnancies'].astype(float)\n",
    "can1['Num of pregnancies'] = can1['Num of pregnancies'].replace({0 : can1['Num of pregnancies'].median()})\n",
    "can1['Num of pregnancies']"
   ]
  },
  {
   "cell_type": "code",
   "execution_count": 53,
   "metadata": {
    "colab": {
     "base_uri": "https://localhost:8080/",
     "height": 36
    },
    "colab_type": "code",
    "id": "coSfHzp-JAeY",
    "outputId": "baafdd81-1d51-49e4-83eb-f90f65a902e1"
   },
   "outputs": [
    {
     "data": {
      "text/plain": [
       "0      0.0\n",
       "1      0.0\n",
       "2      0.0\n",
       "3      1.0\n",
       "4      0.0\n",
       "      ... \n",
       "853    0.0\n",
       "854    0.0\n",
       "855    0.0\n",
       "856    0.0\n",
       "857    0.0\n",
       "Name: Smokes, Length: 858, dtype: float64"
      ]
     },
     "execution_count": 53,
     "metadata": {},
     "output_type": "execute_result"
    }
   ],
   "source": [
    "# Imputing the missing values from Smokes\n",
    "can1['Smokes'] = can1['Smokes'].astype(float)\n",
    "can1['Smokes'] = can1['Smokes'].replace({0:can1['Smokes'].median()})\n",
    "can1['Smokes']"
   ]
  },
  {
   "cell_type": "code",
   "execution_count": 56,
   "metadata": {
    "colab": {
     "base_uri": "https://localhost:8080/",
     "height": 36
    },
    "colab_type": "code",
    "id": "uS5muTzuJV09",
    "outputId": "cdd9c805-41ac-41c2-aa79-69bc01d9f021"
   },
   "outputs": [
    {
     "data": {
      "text/plain": [
       "0       0.0\n",
       "1       0.0\n",
       "2       0.0\n",
       "3      37.0\n",
       "4       0.0\n",
       "       ... \n",
       "853     0.0\n",
       "854     0.0\n",
       "855     0.0\n",
       "856     0.0\n",
       "857     0.0\n",
       "Name: Smokes (years), Length: 858, dtype: float64"
      ]
     },
     "execution_count": 56,
     "metadata": {},
     "output_type": "execute_result"
    }
   ],
   "source": [
    "# Imputing the missing values from Smokes (years)\n",
    "can1['Smokes (years)'] = can1['Smokes (years)'].astype(float)\n",
    "can1['Smokes (years)'] = can1['Smokes (years)'].replace({0:can1['Smokes (years)'].median()})\n",
    "can1['Smokes (years)']"
   ]
  },
  {
   "cell_type": "code",
   "execution_count": 57,
   "metadata": {
    "colab": {
     "base_uri": "https://localhost:8080/",
     "height": 36
    },
    "colab_type": "code",
    "id": "i_5I_XXAJrRu",
    "outputId": "1e1c62f8-ea2d-403b-8e23-0181cc2febf9"
   },
   "outputs": [
    {
     "data": {
      "text/plain": [
       "0       0.0\n",
       "1       0.0\n",
       "2       0.0\n",
       "3      37.0\n",
       "4       0.0\n",
       "       ... \n",
       "853     0.0\n",
       "854     0.0\n",
       "855     0.0\n",
       "856     0.0\n",
       "857     0.0\n",
       "Name: Smokes (packs/year), Length: 858, dtype: object"
      ]
     },
     "execution_count": 57,
     "metadata": {},
     "output_type": "execute_result"
    }
   ],
   "source": [
    "# Imputing the missing values from Smokes (packs/year)\n",
    "can1['Smokes (packs/year)']"
   ]
  },
  {
   "cell_type": "code",
   "execution_count": 60,
   "metadata": {
    "colab": {
     "base_uri": "https://localhost:8080/",
     "height": 36
    },
    "colab_type": "code",
    "id": "uGSV8fHeKAg7",
    "outputId": "9d15c5a4-379e-4a41-b510-62fd2615008c"
   },
   "outputs": [
    {
     "data": {
      "text/plain": [
       "0      1.0\n",
       "1      1.0\n",
       "2      1.0\n",
       "3      1.0\n",
       "4      1.0\n",
       "      ... \n",
       "853    1.0\n",
       "854    1.0\n",
       "855    1.0\n",
       "856    1.0\n",
       "857    1.0\n",
       "Name: Hormonal Contraceptives, Length: 858, dtype: float64"
      ]
     },
     "execution_count": 60,
     "metadata": {},
     "output_type": "execute_result"
    }
   ],
   "source": [
    "# Imputing the missing values from Hormonal Contraceptives\n",
    "can1['Hormonal Contraceptives'] = can1['Hormonal Contraceptives'].astype(float)\n",
    "can1['Hormonal Contraceptives'] = can1['Hormonal Contraceptives'].replace({0:can1['Hormonal Contraceptives'].median()})\n",
    "can1['Hormonal Contraceptives']"
   ]
  },
  {
   "cell_type": "code",
   "execution_count": 64,
   "metadata": {
    "colab": {
     "base_uri": "https://localhost:8080/",
     "height": 36
    },
    "colab_type": "code",
    "id": "cH_ayTrCKl1U",
    "outputId": "cfbdc514-8d41-4ae8-b4d9-149020e8dcd5"
   },
   "outputs": [
    {
     "data": {
      "text/plain": [
       "0       0.25\n",
       "1       0.25\n",
       "2       0.25\n",
       "3       3.00\n",
       "4      15.00\n",
       "       ...  \n",
       "853     0.25\n",
       "854     8.00\n",
       "855     0.08\n",
       "856     0.08\n",
       "857     0.50\n",
       "Name: Hormonal Contraceptives (years), Length: 858, dtype: float64"
      ]
     },
     "execution_count": 64,
     "metadata": {},
     "output_type": "execute_result"
    }
   ],
   "source": [
    "# Imputing the missing values from Hormonal Contraceptives (years)\n",
    "can1['Hormonal Contraceptives (years)'] = can1['Hormonal Contraceptives (years)'].astype(float)\n",
    "can1['Hormonal Contraceptives (years)'] = can1['Hormonal Contraceptives (years)'].replace({0:can1['Hormonal Contraceptives (years)'].median()})\n",
    "can1['Hormonal Contraceptives (years)']"
   ]
  },
  {
   "cell_type": "code",
   "execution_count": 66,
   "metadata": {
    "colab": {
     "base_uri": "https://localhost:8080/",
     "height": 36
    },
    "colab_type": "code",
    "id": "PU-i5dpiLsC6",
    "outputId": "3b9a596d-b8db-46b8-f858-83ee0ce182e1"
   },
   "outputs": [
    {
     "data": {
      "text/plain": [
       "0      0.0\n",
       "1      0.0\n",
       "2      0.0\n",
       "3      0.0\n",
       "4      0.0\n",
       "      ... \n",
       "853    0.0\n",
       "854    0.0\n",
       "855    0.0\n",
       "856    0.0\n",
       "857    0.0\n",
       "Name: IUD, Length: 858, dtype: float64"
      ]
     },
     "execution_count": 66,
     "metadata": {},
     "output_type": "execute_result"
    }
   ],
   "source": [
    "# Imputing the missing values from IUD\n",
    "can1['IUD'] = can1['IUD'].astype(float)\n",
    "can1['IUD'] = can1['IUD'].replace({0:can1['IUD'].median()})\n",
    "can1['IUD']"
   ]
  },
  {
   "cell_type": "code",
   "execution_count": 68,
   "metadata": {
    "colab": {
     "base_uri": "https://localhost:8080/",
     "height": 36
    },
    "colab_type": "code",
    "id": "avn6NVpRMM80",
    "outputId": "4358eb26-e604-4b24-9641-c0a4b2ac22e7"
   },
   "outputs": [
    {
     "data": {
      "text/plain": [
       "0      0.0\n",
       "1      0.0\n",
       "2      0.0\n",
       "3      0.0\n",
       "4      0.0\n",
       "      ... \n",
       "853    0.0\n",
       "854    0.0\n",
       "855    0.0\n",
       "856    0.0\n",
       "857    0.0\n",
       "Name: IUD (years), Length: 858, dtype: float64"
      ]
     },
     "execution_count": 68,
     "metadata": {},
     "output_type": "execute_result"
    }
   ],
   "source": [
    "# Imputing the missing values from IUD (years)\n",
    "can1['IUD (years)'] = can1['IUD (years)'].astype(float)\n",
    "can1['IUD (years)'] = can1['IUD (years)'].replace({0:can1['IUD (years)'].median()})\n",
    "can1['IUD (years)']"
   ]
  },
  {
   "cell_type": "code",
   "execution_count": 70,
   "metadata": {
    "colab": {
     "base_uri": "https://localhost:8080/",
     "height": 36
    },
    "colab_type": "code",
    "id": "CrCUMMDuM_Fw",
    "outputId": "4463563c-3057-477d-f0f2-94a4ab61e6c3"
   },
   "outputs": [
    {
     "data": {
      "text/plain": [
       "0      0.0\n",
       "1      0.0\n",
       "2      0.0\n",
       "3      0.0\n",
       "4      0.0\n",
       "      ... \n",
       "853    0.0\n",
       "854    0.0\n",
       "855    0.0\n",
       "856    0.0\n",
       "857    0.0\n",
       "Name: STDs, Length: 858, dtype: float64"
      ]
     },
     "execution_count": 70,
     "metadata": {},
     "output_type": "execute_result"
    }
   ],
   "source": [
    "# Imputing the missing values from STDs\n",
    "can1['STDs'] = can1['STDs'].astype(float)\n",
    "can1['STDs'] = can1['STDs'].replace({0:can1['STDs'].median()})\n",
    "can1['STDs']"
   ]
  },
  {
   "cell_type": "code",
   "execution_count": 72,
   "metadata": {
    "colab": {
     "base_uri": "https://localhost:8080/",
     "height": 36
    },
    "colab_type": "code",
    "id": "UCWtZJVRNShk",
    "outputId": "beeedea6-0087-41ec-b493-8488562a992b"
   },
   "outputs": [
    {
     "data": {
      "text/plain": [
       "0      0.0\n",
       "1      0.0\n",
       "2      0.0\n",
       "3      0.0\n",
       "4      0.0\n",
       "      ... \n",
       "853    0.0\n",
       "854    0.0\n",
       "855    0.0\n",
       "856    0.0\n",
       "857    0.0\n",
       "Name: STDs (number), Length: 858, dtype: float64"
      ]
     },
     "execution_count": 72,
     "metadata": {},
     "output_type": "execute_result"
    }
   ],
   "source": [
    "# Imputing the missing values from STDs (number)\n",
    "can1['STDs (number)'] = can1['STDs (number)'].astype(float)\n",
    "can1['STDs (number)'] = can1['STDs (number)'].replace({0:can1['STDs (number)'].median()})\n",
    "can1['STDs (number)']"
   ]
  },
  {
   "cell_type": "code",
   "execution_count": 74,
   "metadata": {
    "colab": {
     "base_uri": "https://localhost:8080/",
     "height": 36
    },
    "colab_type": "code",
    "id": "dPBhs9gENzF8",
    "outputId": "c2b341ac-d05b-408e-cc59-5aa3928ef279"
   },
   "outputs": [
    {
     "data": {
      "text/plain": [
       "0      0.0\n",
       "1      0.0\n",
       "2      0.0\n",
       "3      0.0\n",
       "4      0.0\n",
       "      ... \n",
       "853    0.0\n",
       "854    0.0\n",
       "855    0.0\n",
       "856    0.0\n",
       "857    0.0\n",
       "Name: STDs:condylomatosis, Length: 858, dtype: float64"
      ]
     },
     "execution_count": 74,
     "metadata": {},
     "output_type": "execute_result"
    }
   ],
   "source": [
    "# Imputing the missing values from STDs:condylomatosis\n",
    "can1['STDs:condylomatosis'] = can1['STDs:condylomatosis'].astype(float)\n",
    "can1['STDs:condylomatosis'] = can1['STDs:condylomatosis'].replace({0:can1['STDs:condylomatosis'].median()})\n",
    "can1['STDs:condylomatosis']"
   ]
  },
  {
   "cell_type": "code",
   "execution_count": 76,
   "metadata": {
    "colab": {
     "base_uri": "https://localhost:8080/",
     "height": 36
    },
    "colab_type": "code",
    "id": "MI5vXM88OLG_",
    "outputId": "697c5afb-1a8d-488b-dce0-c48a64c7ab67"
   },
   "outputs": [
    {
     "data": {
      "text/plain": [
       "0      0.0\n",
       "1      0.0\n",
       "2      0.0\n",
       "3      0.0\n",
       "4      0.0\n",
       "      ... \n",
       "853    0.0\n",
       "854    0.0\n",
       "855    0.0\n",
       "856    0.0\n",
       "857    0.0\n",
       "Name: STDs:cervical condylomatosis, Length: 858, dtype: float64"
      ]
     },
     "execution_count": 76,
     "metadata": {},
     "output_type": "execute_result"
    }
   ],
   "source": [
    "# Imputing the missing values from STDs:cervical condylomatosis\n",
    "can1['STDs:cervical condylomatosis'] = can1['STDs:cervical condylomatosis'].astype(float)\n",
    "can1['STDs:cervical condylomatosis'] = can1['STDs:cervical condylomatosis'].replace({0:can1['STDs:cervical condylomatosis'].median()})\n",
    "can1['STDs:cervical condylomatosis']"
   ]
  },
  {
   "cell_type": "code",
   "execution_count": 79,
   "metadata": {
    "colab": {
     "base_uri": "https://localhost:8080/",
     "height": 36
    },
    "colab_type": "code",
    "id": "UHrPEly5OrEm",
    "outputId": "ece52d69-1a34-441a-ed08-94cebd756d0d"
   },
   "outputs": [
    {
     "data": {
      "text/plain": [
       "0      0.0\n",
       "1      0.0\n",
       "2      0.0\n",
       "3      0.0\n",
       "4      0.0\n",
       "      ... \n",
       "853    0.0\n",
       "854    0.0\n",
       "855    0.0\n",
       "856    0.0\n",
       "857    0.0\n",
       "Name: STDs:vaginal condylomatosis, Length: 858, dtype: float64"
      ]
     },
     "execution_count": 79,
     "metadata": {},
     "output_type": "execute_result"
    }
   ],
   "source": [
    "# Imputing the missing values from STDs:vaginal condylomatosis\n",
    "can1['STDs:vaginal condylomatosis'] = can1['STDs:vaginal condylomatosis'].astype(float)\n",
    "can1['STDs:vaginal condylomatosis'] = can1['STDs:vaginal condylomatosis'].replace({0:can1['STDs:vaginal condylomatosis'].median()})\n",
    "can1['STDs:vaginal condylomatosis']"
   ]
  },
  {
   "cell_type": "code",
   "execution_count": 82,
   "metadata": {
    "colab": {
     "base_uri": "https://localhost:8080/",
     "height": 36
    },
    "colab_type": "code",
    "id": "D6YgmMYFPJDs",
    "outputId": "4c75e773-2c62-4eaa-bfec-6f2bdcc34916"
   },
   "outputs": [
    {
     "data": {
      "text/plain": [
       "0      0.0\n",
       "1      0.0\n",
       "2      0.0\n",
       "3      0.0\n",
       "4      0.0\n",
       "      ... \n",
       "853    0.0\n",
       "854    0.0\n",
       "855    0.0\n",
       "856    0.0\n",
       "857    0.0\n",
       "Name: STDs:vulvo-perineal condylomatosis, Length: 858, dtype: float64"
      ]
     },
     "execution_count": 82,
     "metadata": {},
     "output_type": "execute_result"
    }
   ],
   "source": [
    "# Imputing the missing values from STDs:vulvo-perineal condylomatosis\n",
    "can1['STDs:vulvo-perineal condylomatosis'] = can1['STDs:vulvo-perineal condylomatosis'].astype(float)\n",
    "can1['STDs:vulvo-perineal condylomatosis'] = can1['STDs:vulvo-perineal condylomatosis'].replace({0:can1['STDs:vulvo-perineal condylomatosis'].median()})\n",
    "can1['STDs:vulvo-perineal condylomatosis']"
   ]
  },
  {
   "cell_type": "code",
   "execution_count": 84,
   "metadata": {
    "colab": {
     "base_uri": "https://localhost:8080/",
     "height": 36
    },
    "colab_type": "code",
    "id": "lT4D4QfDPl0y",
    "outputId": "bcf0f94e-0b40-4ce2-f1bc-3b7766dfcd0a"
   },
   "outputs": [
    {
     "data": {
      "text/plain": [
       "0      0.0\n",
       "1      0.0\n",
       "2      0.0\n",
       "3      0.0\n",
       "4      0.0\n",
       "      ... \n",
       "853    0.0\n",
       "854    0.0\n",
       "855    0.0\n",
       "856    0.0\n",
       "857    0.0\n",
       "Name: STDs:syphilis, Length: 858, dtype: float64"
      ]
     },
     "execution_count": 84,
     "metadata": {},
     "output_type": "execute_result"
    }
   ],
   "source": [
    "# Imputing the missing values from STDs:syphilis\n",
    "can1['STDs:syphilis'] = can1['STDs:syphilis'].astype(float) \n",
    "can1['STDs:syphilis'] = can1['STDs:syphilis'].replace({0:can1['STDs:syphilis'].median()})\n",
    "can1['STDs:syphilis']"
   ]
  },
  {
   "cell_type": "code",
   "execution_count": 87,
   "metadata": {
    "colab": {
     "base_uri": "https://localhost:8080/",
     "height": 36
    },
    "colab_type": "code",
    "id": "YjcYUtopTags",
    "outputId": "82a106f8-082b-4fc0-8dde-e556a23389ce"
   },
   "outputs": [
    {
     "data": {
      "text/plain": [
       "0      0.0\n",
       "1      0.0\n",
       "2      0.0\n",
       "3      0.0\n",
       "4      0.0\n",
       "      ... \n",
       "853    0.0\n",
       "854    0.0\n",
       "855    0.0\n",
       "856    0.0\n",
       "857    0.0\n",
       "Name: STDs:pelvic inflammatory disease, Length: 858, dtype: float64"
      ]
     },
     "execution_count": 87,
     "metadata": {},
     "output_type": "execute_result"
    }
   ],
   "source": [
    "# Imputing the missing values from STDs:pelvic inflammatory diseases\n",
    "can1['STDs:pelvic inflammatory disease'] = can1['STDs:pelvic inflammatory disease'].astype(float)\n",
    "can1['STDs:pelvic inflammatory disease'] = can1['STDs:pelvic inflammatory disease'].replace({0:can1['STDs:pelvic inflammatory disease'].median()})\n",
    "can1['STDs:pelvic inflammatory disease']"
   ]
  },
  {
   "cell_type": "code",
   "execution_count": 89,
   "metadata": {
    "colab": {
     "base_uri": "https://localhost:8080/",
     "height": 36
    },
    "colab_type": "code",
    "id": "IuK9Mki5UQhX",
    "outputId": "1c884dc3-410c-4740-ec61-2fee6b9f9687"
   },
   "outputs": [
    {
     "data": {
      "text/plain": [
       "0      0.0\n",
       "1      0.0\n",
       "2      0.0\n",
       "3      0.0\n",
       "4      0.0\n",
       "      ... \n",
       "853    0.0\n",
       "854    0.0\n",
       "855    0.0\n",
       "856    0.0\n",
       "857    0.0\n",
       "Name: STDs:genital herpes, Length: 858, dtype: float64"
      ]
     },
     "execution_count": 89,
     "metadata": {},
     "output_type": "execute_result"
    }
   ],
   "source": [
    "# Imputing the missing values from STDs:genital herpes\n",
    "can1['STDs:genital herpes'] = can1['STDs:genital herpes'].astype(float)\n",
    "can1['STDs:genital herpes'] = can1['STDs:genital herpes'].replace({0:can1['STDs:genital herpes'].median()})\n",
    "can1['STDs:genital herpes']"
   ]
  },
  {
   "cell_type": "code",
   "execution_count": 91,
   "metadata": {
    "colab": {
     "base_uri": "https://localhost:8080/",
     "height": 36
    },
    "colab_type": "code",
    "id": "K-A6KKPVUwL0",
    "outputId": "cfb6a856-4fc7-4496-a770-98235d4e37e5"
   },
   "outputs": [
    {
     "data": {
      "text/plain": [
       "0      0.0\n",
       "1      0.0\n",
       "2      0.0\n",
       "3      0.0\n",
       "4      0.0\n",
       "      ... \n",
       "853    0.0\n",
       "854    0.0\n",
       "855    0.0\n",
       "856    0.0\n",
       "857    0.0\n",
       "Name: STDs:molluscum contagiosum, Length: 858, dtype: float64"
      ]
     },
     "execution_count": 91,
     "metadata": {},
     "output_type": "execute_result"
    }
   ],
   "source": [
    "# Imputing the missing values from STDs:molluscum contagiosum\n",
    "can1['STDs:molluscum contagiosum'] = can1['STDs:molluscum contagiosum'].astype(float)\n",
    "can1['STDs:molluscum contagiosum'] = can1['STDs:molluscum contagiosum'].replace({0:can1['STDs:molluscum contagiosum'].median()})\n",
    "can1['STDs:molluscum contagiosum']"
   ]
  },
  {
   "cell_type": "code",
   "execution_count": 93,
   "metadata": {
    "colab": {
     "base_uri": "https://localhost:8080/",
     "height": 36
    },
    "colab_type": "code",
    "id": "mclCNR8bVgAP",
    "outputId": "80bcc1ac-5db0-49d2-c222-bd45890fbe83"
   },
   "outputs": [
    {
     "data": {
      "text/plain": [
       "0      0.0\n",
       "1      0.0\n",
       "2      0.0\n",
       "3      0.0\n",
       "4      0.0\n",
       "      ... \n",
       "853    0.0\n",
       "854    0.0\n",
       "855    0.0\n",
       "856    0.0\n",
       "857    0.0\n",
       "Name: STDs:AIDS, Length: 858, dtype: float64"
      ]
     },
     "execution_count": 93,
     "metadata": {},
     "output_type": "execute_result"
    }
   ],
   "source": [
    "# Imputing the missing values from STDs:AIDS\n",
    "can1['STDs:AIDS'] = can1['STDs:AIDS'].astype(float)\n",
    "can1['STDs:AIDS'] = can1['STDs:AIDS'].replace({0:can1['STDs:AIDS'].median()})\n",
    "can1['STDs:AIDS']"
   ]
  },
  {
   "cell_type": "code",
   "execution_count": 95,
   "metadata": {
    "colab": {
     "base_uri": "https://localhost:8080/",
     "height": 36
    },
    "colab_type": "code",
    "id": "EuDCWr5fWYZL",
    "outputId": "14a426be-4029-4247-bd49-513a47e6a9aa"
   },
   "outputs": [
    {
     "data": {
      "text/plain": [
       "0      0.0\n",
       "1      0.0\n",
       "2      0.0\n",
       "3      0.0\n",
       "4      0.0\n",
       "      ... \n",
       "853    0.0\n",
       "854    0.0\n",
       "855    0.0\n",
       "856    0.0\n",
       "857    0.0\n",
       "Name: STDs:HIV, Length: 858, dtype: float64"
      ]
     },
     "execution_count": 95,
     "metadata": {},
     "output_type": "execute_result"
    }
   ],
   "source": [
    "# Imputing the missing values from STDs:HIV\n",
    "can1['STDs:HIV'] = can1['STDs:HIV'].astype(float)\n",
    "can1['STDs:HIV'] = can1['STDs:HIV'].replace({0:can1['STDs:HIV'].median()})\n",
    "can1['STDs:HIV']"
   ]
  },
  {
   "cell_type": "code",
   "execution_count": 97,
   "metadata": {
    "colab": {
     "base_uri": "https://localhost:8080/",
     "height": 36
    },
    "colab_type": "code",
    "id": "xQ_mzWeOW17D",
    "outputId": "6061d020-8089-4682-9f33-1c70b561e59a"
   },
   "outputs": [
    {
     "data": {
      "text/plain": [
       "0      0.0\n",
       "1      0.0\n",
       "2      0.0\n",
       "3      0.0\n",
       "4      0.0\n",
       "      ... \n",
       "853    0.0\n",
       "854    0.0\n",
       "855    0.0\n",
       "856    0.0\n",
       "857    0.0\n",
       "Name: STDs:Hepatitis B, Length: 858, dtype: float64"
      ]
     },
     "execution_count": 97,
     "metadata": {},
     "output_type": "execute_result"
    }
   ],
   "source": [
    "# Imputing the missing values from STDs:Hepatitis B\n",
    "can1['STDs:Hepatitis B'] = can1['STDs:Hepatitis B'].astype(float)\n",
    "can1['STDs:Hepatitis B'] = can1['STDs:Hepatitis B'].replace({0:can1['STDs:Hepatitis B'].median()})\n",
    "can1['STDs:Hepatitis B']"
   ]
  },
  {
   "cell_type": "code",
   "execution_count": 99,
   "metadata": {
    "colab": {
     "base_uri": "https://localhost:8080/",
     "height": 36
    },
    "colab_type": "code",
    "id": "zONJZ9-pXhmj",
    "outputId": "ac6eed8f-6271-4971-abef-99d20b341e52"
   },
   "outputs": [
    {
     "data": {
      "text/plain": [
       "0      0.0\n",
       "1      0.0\n",
       "2      0.0\n",
       "3      0.0\n",
       "4      0.0\n",
       "      ... \n",
       "853    0.0\n",
       "854    0.0\n",
       "855    0.0\n",
       "856    0.0\n",
       "857    0.0\n",
       "Name: STDs:HPV, Length: 858, dtype: float64"
      ]
     },
     "execution_count": 99,
     "metadata": {},
     "output_type": "execute_result"
    }
   ],
   "source": [
    "# Imputing the missing values from STDs:HPV\n",
    "can1['STDs:HPV'] = can1['STDs:HPV'].astype(float) \n",
    "can1['STDs:HPV'] = can1['STDs:HPV'].replace({0:can1['STDs:HPV'].median()})\n",
    "can1['STDs:HPV']"
   ]
  },
  {
   "cell_type": "code",
   "execution_count": 101,
   "metadata": {
    "colab": {
     "base_uri": "https://localhost:8080/",
     "height": 36
    },
    "colab_type": "code",
    "id": "uApuugCuYLTX",
    "outputId": "2d919c52-e66d-4d15-af26-839152697ff0"
   },
   "outputs": [
    {
     "data": {
      "text/plain": [
       "0      0.0\n",
       "1      0.0\n",
       "2      0.0\n",
       "3      0.0\n",
       "4      0.0\n",
       "      ... \n",
       "853    0.0\n",
       "854    0.0\n",
       "855    0.0\n",
       "856    0.0\n",
       "857    0.0\n",
       "Name: STDs: Time since first diagnosis, Length: 858, dtype: float64"
      ]
     },
     "execution_count": 101,
     "metadata": {},
     "output_type": "execute_result"
    }
   ],
   "source": [
    "# Imputing the missing values from STDs: Time since first diagnosis\n",
    "can1['STDs: Time since first diagnosis'] = can1['STDs: Time since first diagnosis'].astype(float)\n",
    "can1['STDs: Time since first diagnosis'] = can1['STDs: Time since first diagnosis'].replace({0:can1['STDs: Time since first diagnosis'].median()})\n",
    "can1['STDs: Time since first diagnosis']"
   ]
  },
  {
   "cell_type": "code",
   "execution_count": 103,
   "metadata": {
    "colab": {
     "base_uri": "https://localhost:8080/",
     "height": 36
    },
    "colab_type": "code",
    "id": "0aufaFATYlU7",
    "outputId": "753df7ca-4453-4397-80e4-fc25aba84eb9"
   },
   "outputs": [
    {
     "data": {
      "text/plain": [
       "0      0.0\n",
       "1      0.0\n",
       "2      0.0\n",
       "3      0.0\n",
       "4      0.0\n",
       "      ... \n",
       "853    0.0\n",
       "854    0.0\n",
       "855    0.0\n",
       "856    0.0\n",
       "857    0.0\n",
       "Name: STDs: Time since last diagnosis, Length: 858, dtype: float64"
      ]
     },
     "execution_count": 103,
     "metadata": {},
     "output_type": "execute_result"
    }
   ],
   "source": [
    "# Imputing the missing values from STDs: Time since last diagnosis\n",
    "can1['STDs: Time since last diagnosis'] = can1['STDs: Time since last diagnosis'].astype(float)\n",
    "can1['STDs: Time since last diagnosis'] = can1['STDs: Time since last diagnosis'].replace({0:can1['STDs: Time since last diagnosis'].median()})\n",
    "can1['STDs: Time since last diagnosis']"
   ]
  },
  {
   "cell_type": "markdown",
   "metadata": {},
   "source": [
    "###  1.8 Imputing null values for categorical variables for get_dummies"
   ]
  },
  {
   "cell_type": "code",
   "execution_count": 105,
   "metadata": {},
   "outputs": [
    {
     "data": {
      "text/html": [
       "<div>\n",
       "<style scoped>\n",
       "    .dataframe tbody tr th:only-of-type {\n",
       "        vertical-align: middle;\n",
       "    }\n",
       "\n",
       "    .dataframe tbody tr th {\n",
       "        vertical-align: top;\n",
       "    }\n",
       "\n",
       "    .dataframe thead th {\n",
       "        text-align: right;\n",
       "    }\n",
       "</style>\n",
       "<table border=\"1\" class=\"dataframe\">\n",
       "  <thead>\n",
       "    <tr style=\"text-align: right;\">\n",
       "      <th></th>\n",
       "      <th>0.0</th>\n",
       "      <th>1.0</th>\n",
       "    </tr>\n",
       "  </thead>\n",
       "  <tbody>\n",
       "    <tr>\n",
       "      <td>0</td>\n",
       "      <td>1</td>\n",
       "      <td>0</td>\n",
       "    </tr>\n",
       "    <tr>\n",
       "      <td>1</td>\n",
       "      <td>1</td>\n",
       "      <td>0</td>\n",
       "    </tr>\n",
       "    <tr>\n",
       "      <td>2</td>\n",
       "      <td>1</td>\n",
       "      <td>0</td>\n",
       "    </tr>\n",
       "    <tr>\n",
       "      <td>3</td>\n",
       "      <td>0</td>\n",
       "      <td>1</td>\n",
       "    </tr>\n",
       "    <tr>\n",
       "      <td>4</td>\n",
       "      <td>1</td>\n",
       "      <td>0</td>\n",
       "    </tr>\n",
       "  </tbody>\n",
       "</table>\n",
       "</div>"
      ],
      "text/plain": [
       "   0.0  1.0\n",
       "0    1    0\n",
       "1    1    0\n",
       "2    1    0\n",
       "3    0    1\n",
       "4    1    0"
      ]
     },
     "execution_count": 105,
     "metadata": {},
     "output_type": "execute_result"
    }
   ],
   "source": [
    "pd.get_dummies(can1['Smokes']).head()"
   ]
  },
  {
   "cell_type": "markdown",
   "metadata": {
    "colab_type": "text",
    "id": "tet9wPZa2sZ4"
   },
   "source": [
    "### 1.10 Data Visualization for checking any categorical variables or not using count plot?"
   ]
  },
  {
   "cell_type": "code",
   "execution_count": 107,
   "metadata": {},
   "outputs": [
    {
     "data": {
      "image/png": "[encoded data removed]",
      "text/plain": [
       "<Figure size 432x288 with 1 Axes>"
      ]
     },
     "metadata": {
      "needs_background": "light"
     },
     "output_type": "display_data"
    }
   ],
   "source": [
    "sns.countplot(data=can1,x='Smokes')\n",
    "plt.show()"
   ]
  },
  {
   "cell_type": "markdown",
   "metadata": {},
   "source": [
    "### 1.11 splitting the dataset into dependent and independent variables?"
   ]
  },
  {
   "cell_type": "code",
   "execution_count": 109,
   "metadata": {},
   "outputs": [],
   "source": [
    "from sklearn.model_selection import train_test_split\n",
    "x = can1.iloc[:,:-1]\n",
    "y = can1.iloc[:,-1]"
   ]
  },
  {
   "cell_type": "markdown",
   "metadata": {},
   "source": [
    "### 1.12 splitting the dataset into  training and test set?"
   ]
  },
  {
   "cell_type": "code",
   "execution_count": 110,
   "metadata": {},
   "outputs": [
    {
     "name": "stdout",
     "output_type": "stream",
     "text": [
      "(600, 36) \n",
      " (600,) \n",
      " (258, 36) \n",
      " (258,)\n"
     ]
    }
   ],
   "source": [
    "xtrain,xtest,ytrain,ytest = train_test_split(x,y,test_size=0.3,random_state=0)\n",
    "print(xtrain.shape,\"\\n\",ytrain.shape,\"\\n\",xtest.shape,\"\\n\",ytest.shape)"
   ]
  },
  {
   "cell_type": "markdown",
   "metadata": {},
   "source": [
    "# The End"
   ]
  }
 ],
 "metadata": {
  "colab": {
   "collapsed_sections": [],
   "include_colab_link": true,
   "name": "CevicalCancer.ipynb",
   "provenance": [],
   "version": "0.3.2"
  },
  "kernelspec": {
   "display_name": "Python 3",
   "language": "python",
   "name": "python3"
  },
  "language_info": {
   "codemirror_mode": {
    "name": "ipython",
    "version": 3
   },
   "file_extension": ".py",
   "mimetype": "text/x-python",
   "name": "python",
   "nbconvert_exporter": "python",
   "pygments_lexer": "ipython3",
   "version": "3.7.4"
  }
 },
 "nbformat": 4,
 "nbformat_minor": 1
}
